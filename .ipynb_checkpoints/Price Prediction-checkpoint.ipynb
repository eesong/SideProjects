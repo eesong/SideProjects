{
 "cells": [
  {
   "cell_type": "markdown",
   "metadata": {},
   "source": [
    "# Price Prediction using Logistic Regression "
   ]
  },
  {
   "cell_type": "markdown",
   "metadata": {},
   "source": [
    "## 1 Business Understanding"
   ]
  },
  {
   "cell_type": "markdown",
   "metadata": {},
   "source": [
    "### 1.1 Overview"
   ]
  },
  {
   "cell_type": "markdown",
   "metadata": {},
   "source": [
    "With the historical launch of iPhone, the mobile phone industry's landscape has changed forever. People bid fareware to the clunky, even 'brick' like feature phone and embrace the new shiny iPhone and the late Android phones."
   ]
  },
  {
   "cell_type": "markdown",
   "metadata": {},
   "source": [
    "![Nokia vs iPhone](./nokia.jpg)"
   ]
  },
  {
   "cell_type": "markdown",
   "metadata": {},
   "source": [
    "Since then, the smartphone market took off. Within a few years, people start to use their mobile phone to reply to an email, browse the web, watch a video, play games, manage their personal as well as professional life. Mobile changed Internet too; everything is 'mobile first,' new ideas, new technology, and new products were developed. Everyone has one or even more smartphones now. "
   ]
  },
  {
   "cell_type": "markdown",
   "metadata": {},
   "source": [
    "![shipment](shipment.jpg)"
   ]
  },
  {
   "cell_type": "markdown",
   "metadata": {},
   "source": [
    "With better production technology and thanks to the economy of scale, smartphones are also getting more and more affordable. The price has reached 100 dollars for some low-end models. On the other side of the spectrum, the newest iPhone X at a price from $999. This makes selecting a good price for mobile phone harder for both comsuer and vendors. "
   ]
  },
  {
   "cell_type": "markdown",
   "metadata": {},
   "source": [
    "![price](price.jpg)"
   ]
  },
  {
   "cell_type": "markdown",
   "metadata": {},
   "source": [
    "The new smartphone features are not making the picture any better. Bluetooth, Wi-Fi, battery life, CPU type, front/back facing cameras, all kinds of sensors, consumers find themselves facing numerous selections, and vendors churn out one after another 'next big thing' phone packed with shiny features, trying to grab more sales.\n",
    "\n",
    "Is there a way for the consumer to quickly figure out what would be a decent price he has to pay for a given feature set smartphone? So he has a baseline when go out shopping for his next mobile phone? For mobile phone vendors, pricing their hard designed and carefully manufactured device is never secure. Price it too high, and the competition beats you to it. Price is too low; potential profits will be gone. Besides personal hunch and cost/margin evaluation, is there a more scientific way to base the price on history and price patterns?"
   ]
  },
  {
   "cell_type": "markdown",
   "metadata": {},
   "source": [
    "This is precisely where AI/ML can shine. If we can develop a model that can learn from past/current sales data of each smartphone models, we can use the model to predict the possible sales price for each model, given that we know the features like Bluetooth, screen type, Wi-Fi, and CPU, etc."
   ]
  },
  {
   "cell_type": "markdown",
   "metadata": {},
   "source": [
    "The business applications of such model have great potential. It works on both sides. \n",
    "\n",
    "**For Vendors:**\n",
    "It can be used to evaluate the best price for their new phones, avoiding overpricing or underpricing issues. The rate predicted by the model will be based on historical data and pattern learned from the big data, rather than hunch or guessing. Vendors will be able to make sound business decisions based on hard facts and numbers. The models can also learn from real-time data, which will reflect any significant price fluctuations in the market and help adjust the price accordingly. This helps the vendor stay on top of the market and won't miss the opportunity to increase the rate or reduce the price to counter competitors move.\n",
    "\n",
    "**For consumers:**\n",
    "A website/app can be developed to help the consumer decide whether a 'hot' deal from vendor website is a good price or not. Also by selecting the features he wants on a smartphone and observes the predicted price change, the consumer can easily fine-tune his 'smartphone features bucket list,' and only pay for features he wanted. This dramatically improves his buying experience and will make his decision making more confident."
   ]
  },
  {
   "cell_type": "markdown",
   "metadata": {},
   "source": [
    "### 1.2 Data Set Description"
   ]
  },
  {
   "cell_type": "markdown",
   "metadata": {},
   "source": [
    "The dataset we choose is from a Kaggle. It's a data set that's open to the public. It offers one training set and one test set. The training set comprised of 2000 instances, with 21 columns, each column represents a feature of the mobile phone, with the last column the target for predict. The objective is the price range of the phone, with:<br>\n",
    "1 - Low Price <br>\n",
    "2 - Middle Price<br>\n",
    "3 - High Price<br>\n",
    "4 - Super-high Price<br>\n",
    "There is an issue with the test set though. In the original data set, it doesn't have the target column in it, just features. So we cannot use the test set it provides. Instead, we used an 80/20 split to split the training set of 2000 instances into two group, training and test. Our training set will have 1600 cases while test set will have 400 cases.\n"
   ]
  },
  {
   "cell_type": "markdown",
   "metadata": {},
   "source": [
    "### 1.3 Evaluation Criteria"
   ]
  },
  {
   "cell_type": "markdown",
   "metadata": {},
   "source": [
    "Price predicting in a real business case is not easy. There are too many things that can have a significant impact on price and very hard to quantify. For example branding, people are willing to pay 500 dollars to buy an iPhone but are reluctant to pay 300 for a similar spec less known brands. Also, ecosystem strength also makes a big difference. Even with a much better spec, people still won't buy a Microsoft phone because the lack of apps that it supports, compared to iOS or Android. We estimate that these 'hard-to-quantify' features will have at least 10% impact on the final price."
   ]
  },
  {
   "cell_type": "markdown",
   "metadata": {},
   "source": [
    "In theory, if we have significant enough data points and factor in all the possible features into the data set, we can still achieve very high accuracy. Our data set only have 2000 instances and 21 features, we might be able to produce high accuracy for the training set, but the model might not generalize too well once we project it onto a bigger scale. If we have access to more significant training data with more thorough features coverage, the accuracy and value of the model can increase."
   ]
  },
  {
   "cell_type": "markdown",
   "metadata": {},
   "source": [
    "We don't have access to historical data on the price prediction accuracy for mobile phones. But we can look at the price prediction accuracy for house prices. [Some research](https://towardsdatascience.com/create-a-model-to-predict-house-prices-using-python-d34fe8fad88f) suggests that the efficiency can reach a whopping 91.4%. Since in the above-referred article, they have way more data instances than we have access here. So we need to tune down the goal a bit. So we tentatively think the evaluation criteria should be **85%**."
   ]
  },
  {
   "cell_type": "code",
   "execution_count": 1,
   "metadata": {
    "collapsed": true
   },
   "outputs": [],
   "source": [
    "import sklearn\n",
    "import seaborn as ans\n",
    "import plotly\n",
    "import matplotlib.pyplot as plt\n",
    "import pandas as pd\n",
    "import numpy as np\n",
    "from sklearn.metrics import accuracy_score\n",
    "from scipy.special import expit\n",
    "import timeit"
   ]
  },
  {
   "cell_type": "code",
   "execution_count": 2,
   "metadata": {},
   "outputs": [
    {
     "name": "stdout",
     "output_type": "stream",
     "text": [
      "(2000, 21)\n"
     ]
    }
   ],
   "source": [
    "# read in the dataset and do some basic data exploration\n",
    "df = pd.read_csv('./train.csv')\n",
    "print(df.shape)"
   ]
  },
  {
   "cell_type": "code",
   "execution_count": 3,
   "metadata": {},
   "outputs": [
    {
     "data": {
      "text/html": [
       "<div>\n",
       "<style>\n",
       "    .dataframe thead tr:only-child th {\n",
       "        text-align: right;\n",
       "    }\n",
       "\n",
       "    .dataframe thead th {\n",
       "        text-align: left;\n",
       "    }\n",
       "\n",
       "    .dataframe tbody tr th {\n",
       "        vertical-align: top;\n",
       "    }\n",
       "</style>\n",
       "<table border=\"1\" class=\"dataframe\">\n",
       "  <thead>\n",
       "    <tr style=\"text-align: right;\">\n",
       "      <th></th>\n",
       "      <th>battery_power</th>\n",
       "      <th>blue</th>\n",
       "      <th>clock_speed</th>\n",
       "      <th>dual_sim</th>\n",
       "      <th>fc</th>\n",
       "      <th>four_g</th>\n",
       "      <th>int_memory</th>\n",
       "      <th>m_dep</th>\n",
       "      <th>mobile_wt</th>\n",
       "      <th>n_cores</th>\n",
       "      <th>...</th>\n",
       "      <th>px_height</th>\n",
       "      <th>px_width</th>\n",
       "      <th>ram</th>\n",
       "      <th>sc_h</th>\n",
       "      <th>sc_w</th>\n",
       "      <th>talk_time</th>\n",
       "      <th>three_g</th>\n",
       "      <th>touch_screen</th>\n",
       "      <th>wifi</th>\n",
       "      <th>price_range</th>\n",
       "    </tr>\n",
       "  </thead>\n",
       "  <tbody>\n",
       "    <tr>\n",
       "      <th>0</th>\n",
       "      <td>842</td>\n",
       "      <td>0</td>\n",
       "      <td>2.2</td>\n",
       "      <td>0</td>\n",
       "      <td>1</td>\n",
       "      <td>0</td>\n",
       "      <td>7</td>\n",
       "      <td>0.6</td>\n",
       "      <td>188</td>\n",
       "      <td>2</td>\n",
       "      <td>...</td>\n",
       "      <td>20</td>\n",
       "      <td>756</td>\n",
       "      <td>2549</td>\n",
       "      <td>9</td>\n",
       "      <td>7</td>\n",
       "      <td>19</td>\n",
       "      <td>0</td>\n",
       "      <td>0</td>\n",
       "      <td>1</td>\n",
       "      <td>1</td>\n",
       "    </tr>\n",
       "    <tr>\n",
       "      <th>1</th>\n",
       "      <td>1021</td>\n",
       "      <td>1</td>\n",
       "      <td>0.5</td>\n",
       "      <td>1</td>\n",
       "      <td>0</td>\n",
       "      <td>1</td>\n",
       "      <td>53</td>\n",
       "      <td>0.7</td>\n",
       "      <td>136</td>\n",
       "      <td>3</td>\n",
       "      <td>...</td>\n",
       "      <td>905</td>\n",
       "      <td>1988</td>\n",
       "      <td>2631</td>\n",
       "      <td>17</td>\n",
       "      <td>3</td>\n",
       "      <td>7</td>\n",
       "      <td>1</td>\n",
       "      <td>1</td>\n",
       "      <td>0</td>\n",
       "      <td>2</td>\n",
       "    </tr>\n",
       "    <tr>\n",
       "      <th>2</th>\n",
       "      <td>563</td>\n",
       "      <td>1</td>\n",
       "      <td>0.5</td>\n",
       "      <td>1</td>\n",
       "      <td>2</td>\n",
       "      <td>1</td>\n",
       "      <td>41</td>\n",
       "      <td>0.9</td>\n",
       "      <td>145</td>\n",
       "      <td>5</td>\n",
       "      <td>...</td>\n",
       "      <td>1263</td>\n",
       "      <td>1716</td>\n",
       "      <td>2603</td>\n",
       "      <td>11</td>\n",
       "      <td>2</td>\n",
       "      <td>9</td>\n",
       "      <td>1</td>\n",
       "      <td>1</td>\n",
       "      <td>0</td>\n",
       "      <td>2</td>\n",
       "    </tr>\n",
       "    <tr>\n",
       "      <th>3</th>\n",
       "      <td>615</td>\n",
       "      <td>1</td>\n",
       "      <td>2.5</td>\n",
       "      <td>0</td>\n",
       "      <td>0</td>\n",
       "      <td>0</td>\n",
       "      <td>10</td>\n",
       "      <td>0.8</td>\n",
       "      <td>131</td>\n",
       "      <td>6</td>\n",
       "      <td>...</td>\n",
       "      <td>1216</td>\n",
       "      <td>1786</td>\n",
       "      <td>2769</td>\n",
       "      <td>16</td>\n",
       "      <td>8</td>\n",
       "      <td>11</td>\n",
       "      <td>1</td>\n",
       "      <td>0</td>\n",
       "      <td>0</td>\n",
       "      <td>2</td>\n",
       "    </tr>\n",
       "    <tr>\n",
       "      <th>4</th>\n",
       "      <td>1821</td>\n",
       "      <td>1</td>\n",
       "      <td>1.2</td>\n",
       "      <td>0</td>\n",
       "      <td>13</td>\n",
       "      <td>1</td>\n",
       "      <td>44</td>\n",
       "      <td>0.6</td>\n",
       "      <td>141</td>\n",
       "      <td>2</td>\n",
       "      <td>...</td>\n",
       "      <td>1208</td>\n",
       "      <td>1212</td>\n",
       "      <td>1411</td>\n",
       "      <td>8</td>\n",
       "      <td>2</td>\n",
       "      <td>15</td>\n",
       "      <td>1</td>\n",
       "      <td>1</td>\n",
       "      <td>0</td>\n",
       "      <td>1</td>\n",
       "    </tr>\n",
       "  </tbody>\n",
       "</table>\n",
       "<p>5 rows × 21 columns</p>\n",
       "</div>"
      ],
      "text/plain": [
       "   battery_power  blue  clock_speed  dual_sim  fc  four_g  int_memory  m_dep  \\\n",
       "0            842     0          2.2         0   1       0           7    0.6   \n",
       "1           1021     1          0.5         1   0       1          53    0.7   \n",
       "2            563     1          0.5         1   2       1          41    0.9   \n",
       "3            615     1          2.5         0   0       0          10    0.8   \n",
       "4           1821     1          1.2         0  13       1          44    0.6   \n",
       "\n",
       "   mobile_wt  n_cores     ...       px_height  px_width   ram  sc_h  sc_w  \\\n",
       "0        188        2     ...              20       756  2549     9     7   \n",
       "1        136        3     ...             905      1988  2631    17     3   \n",
       "2        145        5     ...            1263      1716  2603    11     2   \n",
       "3        131        6     ...            1216      1786  2769    16     8   \n",
       "4        141        2     ...            1208      1212  1411     8     2   \n",
       "\n",
       "   talk_time  three_g  touch_screen  wifi  price_range  \n",
       "0         19        0             0     1            1  \n",
       "1          7        1             1     0            2  \n",
       "2          9        1             1     0            2  \n",
       "3         11        1             0     0            2  \n",
       "4         15        1             1     0            1  \n",
       "\n",
       "[5 rows x 21 columns]"
      ]
     },
     "execution_count": 3,
     "metadata": {},
     "output_type": "execute_result"
    }
   ],
   "source": [
    "df.head()"
   ]
  },
  {
   "cell_type": "markdown",
   "metadata": {},
   "source": [
    "2000 instances and 21 features. The last column 'price_range' is the class we want to predict using logistic regression. "
   ]
  },
  {
   "cell_type": "code",
   "execution_count": 4,
   "metadata": {
    "collapsed": true
   },
   "outputs": [],
   "source": [
    "class_num = df['price_range'].value_counts()"
   ]
  },
  {
   "cell_type": "code",
   "execution_count": 5,
   "metadata": {},
   "outputs": [
    {
     "name": "stdout",
     "output_type": "stream",
     "text": [
      "3    500\n",
      "2    500\n",
      "1    500\n",
      "0    500\n",
      "Name: price_range, dtype: int64\n"
     ]
    }
   ],
   "source": [
    "# see how many instances for each class we want to predict\n",
    "print(class_num)"
   ]
  },
  {
   "cell_type": "code",
   "execution_count": 6,
   "metadata": {},
   "outputs": [
    {
     "data": {
      "image/png": "[encoded data removed]",
      "text/plain": [
       "<matplotlib.figure.Figure at 0x10423d438>"
      ]
     },
     "metadata": {},
     "output_type": "display_data"
    }
   ],
   "source": [
    "plt.style.use('ggplot')\n",
    "\n",
    "ax = class_num.plot(kind='barh')\n",
    "plt.title('Three prediction classes')\n",
    "plt.show()"
   ]
  },
  {
   "cell_type": "code",
   "execution_count": 7,
   "metadata": {},
   "outputs": [
    {
     "data": {
      "image/png": "[encoded data removed]",
      "text/plain": [
       "<matplotlib.figure.Figure at 0x1a0d257f28>"
      ]
     },
     "metadata": {},
     "output_type": "display_data"
    }
   ],
   "source": [
    "# see if there are empty data that need imputation\n",
    "import missingno as mn\n",
    "\n",
    "mn.matrix(df.sort_values(by=[\"price_range\",]))"
   ]
  },
  {
   "cell_type": "code",
   "execution_count": 8,
   "metadata": {},
   "outputs": [],
   "source": [
    "plt.show()"
   ]
  },
  {
   "cell_type": "markdown",
   "metadata": {},
   "source": [
    "Obviously no empty data. "
   ]
  },
  {
   "cell_type": "markdown",
   "metadata": {},
   "source": [
    "With our objective to predict the results with best accuracy, the larger the data in training set will results in better accurate prediction results. When training data is less, parameter estimates will have greater variance and when testing data is less, performance statistic will have greater variance. Our data should be split in a way where neither of the variance turns out to be too high. \n",
    "\n",
    "We have 2000 instances in our data set which are neither too high or too less. Hence, leaving us with options of 80-20,90-10 splits.\n",
    "\n",
    "We believe that the 80/20 split is appropriate,fair, safe and a good starting point for our data set. Due to the issue for the test set provided by the original data set, we have to split the original train set. The good thing is we have 2000 instances for the original train set, thus using 1600 cases to train and leave 400 for testing is a good split. Still, have enough data to extract meaningful patterns from the data. If we are dealing with a smaller data set, we might want to consider using a 90/10 split to make the training set stronger but the variance in performance statistics comes out to be huge, hence we stick to 80-20 spilt."
   ]
  },
  {
   "cell_type": "code",
   "execution_count": 9,
   "metadata": {},
   "outputs": [
    {
     "name": "stdout",
     "output_type": "stream",
     "text": [
      "ShuffleSplit(n_splits=10, random_state=None, test_size=0.2, train_size=None)\n",
      "[1 2 2 ..., 3 0 3]\n",
      "[[  8.42000000e+02   0.00000000e+00   2.20000000e+00 ...,   0.00000000e+00\n",
      "    0.00000000e+00   1.00000000e+00]\n",
      " [  1.02100000e+03   1.00000000e+00   5.00000000e-01 ...,   1.00000000e+00\n",
      "    1.00000000e+00   0.00000000e+00]\n",
      " [  5.63000000e+02   1.00000000e+00   5.00000000e-01 ...,   1.00000000e+00\n",
      "    1.00000000e+00   0.00000000e+00]\n",
      " ..., \n",
      " [  1.91100000e+03   0.00000000e+00   9.00000000e-01 ...,   1.00000000e+00\n",
      "    1.00000000e+00   0.00000000e+00]\n",
      " [  1.51200000e+03   0.00000000e+00   9.00000000e-01 ...,   1.00000000e+00\n",
      "    1.00000000e+00   1.00000000e+00]\n",
      " [  5.10000000e+02   1.00000000e+00   2.00000000e+00 ...,   1.00000000e+00\n",
      "    1.00000000e+00   1.00000000e+00]]\n"
     ]
    }
   ],
   "source": [
    "from sklearn.model_selection import ShuffleSplit\n",
    "\n",
    "# we want to predict the X and y data as follows:\n",
    "if 'price_range' in df:\n",
    "    #df['price_range'] = df['class'].astype('category')\n",
    "    #df['price_range'] = df['price_range'].cat.codes\n",
    "    #df.head()\n",
    "    y = df['price_range'].values # get the labels we want\n",
    "    del df['price_range'] # get rid of the class label\n",
    "    X = df.values # use everything else to predict!\n",
    "\n",
    "    ## X and y are now numpy matrices, by calling 'values' on the pandas data frames we\n",
    "    #    have converted them into simple matrices to use with scikit learn\n",
    "    \n",
    "    \n",
    "# to use the cross validation object in scikit learn, we need to grab an instance\n",
    "#    of the object and set it up. This object will be able to split our data into \n",
    "#    training and testing splits\n",
    "num_cv_iterations = 10\n",
    "num_instances = len(y)\n",
    "cv_object = ShuffleSplit(\n",
    "                         n_splits=num_cv_iterations,\n",
    "                         test_size  = 0.2)\n",
    "                         \n",
    "print(cv_object)\n",
    "print(y)\n",
    "print(X)"
   ]
  },
  {
   "cell_type": "markdown",
   "metadata": {},
   "source": [
    "## Modeling\n",
    "\n",
    "Initializing the base class 'BinaryLogisticRegression' Containing all required functions to perform Logistic regression."
   ]
  },
  {
   "cell_type": "code",
   "execution_count": 10,
   "metadata": {
    "collapsed": true
   },
   "outputs": [],
   "source": [
    "from scipy.special import expit\n",
    "\n",
    "class BinaryLogisticRegression:\n",
    "    def __init__(self, eta, iterations=20, C=0.001 , reg='l2'):\n",
    "        self.eta = eta\n",
    "        self.iters = iterations\n",
    "        self.C = C\n",
    "        self.reg = reg\n",
    "        # internally we will store the weights as self.w_ to keep with sklearn conventions\n",
    "        \n",
    "    def __str__(self):\n",
    "        if(hasattr(self,'w_')):\n",
    "            return 'Binary Logistic Regression Object with coefficients:\\n'+ str(self.w_) # is we have trained the object\n",
    "        else:\n",
    "            return 'Untrained Binary Logistic Regression Object'\n",
    "        \n",
    "    # convenience, private:\n",
    "    @staticmethod\n",
    "    def _add_bias(X):\n",
    "        return np.hstack((np.ones((X.shape[0],1)),X)) # add bias term\n",
    "    \n",
    "    @staticmethod\n",
    "    def _sigmoid(theta):\n",
    "        # increase stability, redefine sigmoid operation\n",
    "        return expit(theta) #1/(1+np.exp(-theta))\n",
    "    \n",
    "    # vectorized gradient calculation with regularization using L2 Norm\n",
    "    def _get_gradient(self,X,y):\n",
    "        ydiff = y-self.predict_proba(X,add_bias=False).ravel() # get y difference\n",
    "        gradient = np.mean(X * ydiff[:,np.newaxis], axis=0) # make ydiff a column vector and multiply through\n",
    "        \n",
    "        gradient = gradient.reshape(self.w_.shape)\n",
    "\n",
    "        if self.reg == 'l1':\n",
    "            gradient[1:] +=  np.sign(self.w_[1:]) * self.C\n",
    "        elif self.reg == 'l2':\n",
    "            gradient[1:] += -2 * self.w_[1:] * self.C\n",
    "        elif self.reg == 'l1l2':\n",
    "            gradient[1:] +=  (np.sign(self.w_[1:]) * self.C) + (2 * self.w_[1:] * self.C)\n",
    "        else:\n",
    "            gradient[1:] += -2 * w[1:] * C\n",
    "        \n",
    "        return gradient\n",
    "    \n",
    "    # public:\n",
    "    def predict_proba(self,X,add_bias=True):\n",
    "        # add bias term if requested\n",
    "        Xb = self._add_bias(X) if add_bias else X\n",
    "        return self._sigmoid(Xb @ self.w_) # return the probability y=1\n",
    "    \n",
    "    def predict(self,X):\n",
    "        return (self.predict_proba(X)>0.5) #return the actual prediction\n",
    "    \n",
    "    \n",
    "    def fit(self, X, y):\n",
    "        Xb = self._add_bias(X) # add bias term\n",
    "        num_samples, num_features = Xb.shape\n",
    "        \n",
    "        self.w_ = np.zeros((num_features,1)) # init weight vector to zeros\n",
    "        \n",
    "        # for as many as the max iterations\n",
    "        for _ in range(self.iters):\n",
    "            gradient = self._get_gradient(Xb,y)\n",
    "            self.w_ += gradient*self.eta # multiply by learning rate "
   ]
  },
  {
   "cell_type": "markdown",
   "metadata": {},
   "source": [
    "### Initializing Line search logistic regression with a different fit , line_search_functions inheriting the base class."
   ]
  },
  {
   "cell_type": "code",
   "execution_count": 11,
   "metadata": {},
   "outputs": [
    {
     "name": "stdout",
     "output_type": "stream",
     "text": [
      "CPU times: user 49 µs, sys: 1e+03 ns, total: 50 µs\n",
      "Wall time: 93 µs\n"
     ]
    }
   ],
   "source": [
    "%%time\n",
    "# and we can update this to use a line search along the gradient like this:\n",
    "from scipy.optimize import minimize_scalar\n",
    "import copy\n",
    "class LineSearchLogisticRegression(BinaryLogisticRegression):\n",
    "    \n",
    "    # define custom line search for problem\n",
    "    @staticmethod\n",
    "    def line_search_function(eta,X,y,w,grad,C):\n",
    "        wnew = w + grad*eta\n",
    "        yhat = (1/(1+np.exp(-X @ wnew))) >0.5\n",
    "        return np.mean((y-yhat)**2)-C*np.mean(wnew**2)\n",
    "        \n",
    "    def fit(self, X, y):\n",
    "        Xb = self._add_bias(X) # add bias term\n",
    "        num_samples, num_features = Xb.shape\n",
    "        \n",
    "        self.w_ = np.zeros((num_features,1)) # init weight vector to zeros\n",
    "        \n",
    "        # for as many as the max iterations\n",
    "        for _ in range(self.iters):\n",
    "            gradient = self._get_gradient(Xb,y)\n",
    "            \n",
    "            # do line search in gradient direction, using scipy function\n",
    "            opts = {'maxiter':self.iters/20} # unclear exactly what this should be\n",
    "            res = minimize_scalar(self.line_search_function, # objective function to optimize\n",
    "                                  bounds=(self.eta/1000,self.eta*10), #bounds to optimize\n",
    "                                  args=(Xb,y,self.w_,gradient,self.C), # additional argument for objective function\n",
    "                                  method='bounded', # bounded optimization for speed\n",
    "                                  options=opts) # set max iterations\n",
    "            \n",
    "            eta = res.x # get optimal learning rate\n",
    "            self.w_ += gradient*eta # set new function values"
   ]
  },
  {
   "cell_type": "markdown",
   "metadata": {},
   "source": [
    "### Initializing Stochastic regression with a different fit , line_search_functions inheriting the base class."
   ]
  },
  {
   "cell_type": "code",
   "execution_count": 12,
   "metadata": {},
   "outputs": [
    {
     "name": "stdout",
     "output_type": "stream",
     "text": [
      "CPU times: user 39 µs, sys: 1e+03 ns, total: 40 µs\n",
      "Wall time: 45.8 µs\n"
     ]
    }
   ],
   "source": [
    "%%time\n",
    "class StochasticLogisticRegression(BinaryLogisticRegression):\n",
    "    # stochastic gradient calculation \n",
    "    def _get_gradient(self,X,y):\n",
    "        idx = int(np.random.rand()*len(y)) # grab random instance\n",
    "        ydiff = y[idx]-self.predict_proba(X[idx],add_bias=False) # get y difference (now scalar)\n",
    "        gradient = X[idx] * ydiff[:,np.newaxis] # make ydiff a column vector and multiply through\n",
    "        \n",
    "        gradient = gradient.reshape(self.w_.shape)\n",
    "        \n",
    "        if self.reg == 'l1':\n",
    "            gradient[1:] +=  np.sign(self.w_[1:]) * self.C\n",
    "        elif self.reg == 'l2':\n",
    "            gradient[1:] += -2 * self.w_[1:] * self.C\n",
    "        elif self.reg == 'l1l2':\n",
    "            gradient[1:] +=  (np.sign(self.w_[1:]) * self.C) + (2 * self.w_[1:] * self.C)\n",
    "        else:\n",
    "            gradient[1:] += -2 * w[1:] * C\n",
    "        \n",
    "        return gradient"
   ]
  },
  {
   "cell_type": "code",
   "execution_count": 13,
   "metadata": {},
   "outputs": [
    {
     "name": "stdout",
     "output_type": "stream",
     "text": [
      "CPU times: user 36 µs, sys: 1 µs, total: 37 µs\n",
      "Wall time: 43.2 µs\n"
     ]
    }
   ],
   "source": [
    "%%time\n",
    "from numpy.linalg import pinv\n",
    "class HessianBinaryLogisticRegression(BinaryLogisticRegression):\n",
    "    # just overwrite gradient function\n",
    "    def _get_gradient(self,X,y):\n",
    "        g = self.predict_proba(X,add_bias=False).ravel() # get sigmoid value for all classes\n",
    "        hessian = X.T @ np.diag(g*(1-g)) @ X - 2 * self.C # calculate the hessian\n",
    "\n",
    "        ydiff = y-g # get y difference\n",
    "        gradient = np.sum(X * ydiff[:,np.newaxis], axis=0) # make ydiff a column vector and multiply through\n",
    "        gradient = gradient.reshape(self.w_.shape)\n",
    "        \n",
    "        if self.reg == 'l1':\n",
    "            gradient[1:] +=  np.sign(self.w_[1:]) * self.C\n",
    "        elif self.reg == 'l2':\n",
    "            gradient[1:] += -2 * self.w_[1:] * self.C\n",
    "        elif self.reg == 'l1l2':\n",
    "            gradient[1:] +=  (np.sign(self.w_[1:]) * self.C) + (2 * self.w_[1:] * self.C)\n",
    "        else:\n",
    "            gradient[1:] += -2 * w[1:] * C\n",
    "        \n",
    "        return pinv(hessian) @ gradient"
   ]
  },
  {
   "cell_type": "markdown",
   "metadata": {},
   "source": [
    "### Initializing Stochastic regression with a different fit , line_search_functions inheriting the base class."
   ]
  },
  {
   "cell_type": "code",
   "execution_count": 14,
   "metadata": {
    "collapsed": true
   },
   "outputs": [],
   "source": [
    "# for this, we won't perform our own BFGS implementation \n",
    "# (it takes a good deal of code and understanding of the algorithm)\n",
    "# luckily for us, scipy has its own BFGS implementation:\n",
    "from scipy.optimize import fmin_bfgs\n",
    "class BFGSBinaryLogisticRegression(BinaryLogisticRegression):\n",
    "    \n",
    "    @staticmethod\n",
    "    def objective_function(w,X,y,C,reg):\n",
    "        g = expit(X @ w)\n",
    "        return -np.sum(np.log(g[y==1]))-np.sum(np.log(1-g[y==0])) + C*sum(w**2) #-np.sum(y*np.log(g)+(1-y)*np.log(1-g))\n",
    "\n",
    "    @staticmethod\n",
    "    def objective_gradient(w,X,y,C,reg):\n",
    "        g = expit(X @ w)\n",
    "        ydiff = y-g # get y difference\n",
    "        gradient = np.mean(X * ydiff[:,np.newaxis], axis=0)\n",
    "        gradient = gradient.reshape(w.shape)\n",
    "        gradient[1:] += -2 * w[1:] * C\n",
    "        \n",
    "        if reg == 'l1':\n",
    "            gradient[1:] +=  np.sign(w[1:]) * C\n",
    "        elif reg == 'l2':\n",
    "            gradient[1:] += -2 * w[1:] * C\n",
    "        elif reg == 'l1l2':\n",
    "            gradient[1:] +=  (np.sign(w[1:]) * C) + (2 * w[1:] * C)\n",
    "        else:\n",
    "            gradient[1:] += -2 * w[1:] * C\n",
    "        \n",
    "        return -gradient\n",
    "    \n",
    "    # just overwrite fit function\n",
    "    def fit(self, X, y):\n",
    "        Xb = self._add_bias(X) # add bias term\n",
    "        num_samples, num_features = Xb.shape\n",
    "        reg = self.reg\n",
    "        self.w_ = fmin_bfgs(self.objective_function, # what to optimize\n",
    "                            np.zeros((num_features,1)), # starting point\n",
    "                            fprime=self.objective_gradient, # gradient function\n",
    "                            args=(Xb,y,self.C,reg), # extra args for gradient and objective function\n",
    "                            gtol=1e-03, # stopping criteria for gradient, |v_k|\n",
    "                            maxiter=self.iters, # stopping criteria iterations\n",
    "                            disp=False)\n",
    "        \n",
    "        self.w_ = self.w_.reshape((num_features,1))"
   ]
  },
  {
   "cell_type": "markdown",
   "metadata": {},
   "source": [
    "### Initializing One Versus All MutliClass Regression class which has all the above instantiated methods which can be called by setting the 'method' parameter. The Regularization can also be set to l1,l2,l1_l2 by setting the 'reg' parameter."
   ]
  },
  {
   "cell_type": "code",
   "execution_count": 15,
   "metadata": {
    "collapsed": true
   },
   "outputs": [],
   "source": [
    "class MultiClassLogisticRegression:\n",
    "    def __init__(self, eta=0.1, iterations=20, C=0.001 , method='BFGS' , reg='l2'):\n",
    "        self.eta = eta\n",
    "        self.iters = iterations\n",
    "        self.C = C\n",
    "        self.classifiers_ = []\n",
    "        self.method = method\n",
    "        self.reg = reg\n",
    "        # internally we will store the weights as self.w_ to keep with sklearn conventions\n",
    "    \n",
    "    def __str__(self):\n",
    "        if(hasattr(self,'w_')):\n",
    "            return 'MultiClass Logistic Regression Object with coefficients:\\n'+ str(self.w_) + ', METHOD : ' + self.method + ' REGULARIZATION:' + self.reg# is we have trained the object\n",
    "        else:\n",
    "            return 'Untrained MultiClass Logistic Regression Object, METHOD : ' + self.method\n",
    "        \n",
    "    def fit(self,X,y):\n",
    "        num_samples, num_features = X.shape\n",
    "        self.unique_ = np.sort(np.unique(y)) # get each unique class value\n",
    "        num_unique_classes = len(self.unique_)\n",
    "        #print(self.unique_)\n",
    "        self.classifiers_ = []\n",
    "        for i,yval in enumerate(self.unique_): # for each unique value\n",
    "            y_binary = y==yval # create a binary problem\n",
    "            # train the binary classifier for this class\n",
    "            if self.method == 'BFGS':\n",
    "                lr = BFGSBinaryLogisticRegression(eta=self.eta,iterations=self.iters,C=self.C,reg=self.reg)\n",
    "                lr.fit(X,y_binary)\n",
    "                self.classifiers_.append(lr)\n",
    "            elif self.method == 'Steepest-Descent':\n",
    "                lr = LineSearchLogisticRegression(eta=self.eta,iterations=self.iters,C=self.C,reg=self.reg)\n",
    "                lr.fit(X,y_binary)\n",
    "                self.classifiers_.append(lr)\n",
    "            elif self.method == 'Stochastic':\n",
    "                lr = StochasticLogisticRegression(eta=self.eta,iterations=self.iters,C=self.C,reg=self.reg)\n",
    "                lr.fit(X,y_binary)\n",
    "                self.classifiers_.append(lr)\n",
    "            elif self.method == 'Hessian':\n",
    "                lr = HessianBinaryLogisticRegression(eta=self.eta,iterations=self.iters,C=self.C,reg=self.reg)\n",
    "                lr.fit(X,y_binary)\n",
    "                self.classifiers_.append(lr)\n",
    "            elif self.method == 'MSE':\n",
    "                lr = MSERegression(eta=self.eta,iterations=self.iters,C=self.C)\n",
    "                lr.fit(X,y_binary)\n",
    "                self.classifiers_.append(lr)\n",
    "            else:\n",
    "                return 'Method not found :' + method\n",
    "            \n",
    "        # save all the weights into one matrix, separate column for each class\n",
    "        self.w_ = np.hstack([x.w_ for x in self.classifiers_]).T\n",
    "        \n",
    "    def predict_proba(self,X):\n",
    "        probs = []\n",
    "        for lr in self.classifiers_:\n",
    "            probs.append(lr.predict_proba(X).reshape((len(X),1))) # get probability for each classifier\n",
    "        \n",
    "        return np.hstack(probs) # make into single matrix\n",
    "    \n",
    "    def predict(self,X):\n",
    "        return np.argmax(self.predict_proba(X),axis=1) # take argmax along row"
   ]
  },
  {
   "cell_type": "markdown",
   "metadata": {},
   "source": [
    "## Optimization  Techniques\n",
    "\n",
    "### We got the best results by changing the values of C , ETA , and Iterations and by using L1L2 Regularization using BFGS method. Accuracy achieved : 87.3%"
   ]
  },
  {
   "cell_type": "code",
   "execution_count": 16,
   "metadata": {},
   "outputs": [
    {
     "name": "stdout",
     "output_type": "stream",
     "text": [
      "Untrained MultiClass Logistic Regression Object, METHOD : BFGS\n",
      "MultiClass Logistic Regression Object with coefficients:\n",
      "[[ -2.39083034e+01  -7.14426478e+00  -4.64192980e-02   6.59524282e-01\n",
      "    3.18110263e-01  -1.49350806e-01   2.47469732e-02  -4.21316453e-01\n",
      "   -6.41244476e-01   7.30369397e-01   7.64682471e-01   1.18296810e-01\n",
      "   -4.71911785e+00  -3.87225559e+00  -2.85278013e+01   4.58873344e-01\n",
      "    2.82238414e-01  -6.17008509e-01  -2.68132872e-01   2.94304887e-01\n",
      "    2.35652952e-01]\n",
      " [ -1.19701764e+00  -5.43087953e-02  -3.59100256e-03  -6.15997282e-02\n",
      "    3.34917608e-02   2.13859329e-02   3.03897427e-02   2.63094071e-02\n",
      "    1.08609602e-01   1.05123838e-02  -1.38592489e-01   1.12391166e-02\n",
      "    7.22489418e-02  -3.68147781e-02  -5.90670203e-01  -2.92541049e-03\n",
      "   -5.31663445e-02   1.09253707e-01  -2.41699652e-02   4.53564925e-02\n",
      "   -1.91442996e-03]\n",
      " [ -1.20154149e+00  -3.89895504e-02  -3.98569799e-02   1.14993267e-02\n",
      "   -6.60551491e-02   8.11295341e-02  -1.45243083e-01  -1.04629908e-01\n",
      "   -5.85881425e-02   1.36103483e-01   1.05231791e-01  -5.28066553e-02\n",
      "    2.40612505e-02  -7.20593844e-02   6.18128011e-01  -1.24966796e-01\n",
      "    3.45603913e-02  -1.70807718e-02   1.17605640e-01  -8.46847700e-02\n",
      "   -2.99119313e-02]\n",
      " [ -2.56982940e+01   8.45296556e+00   3.67797379e-01  -2.31596965e-01\n",
      "    6.01381466e-01  -6.13262554e-01   7.74815369e-01   1.37513765e+00\n",
      "    1.49549220e-01  -2.51244961e+00  -1.03540853e-01   6.27170409e-01\n",
      "    4.19029941e+00   5.27439189e+00   3.13052549e+01   9.41866835e-01\n",
      "    1.53423012e-01   4.63082508e-01  -3.97821004e-01   3.19072424e-01\n",
      "   -2.13745584e-01]], METHOD : BFGS REGULARIZATION:l1l2\n",
      "Accuracy of:  0.873\n"
     ]
    }
   ],
   "source": [
    "from sklearn.preprocessing import StandardScaler # FOR BFGS\n",
    "\n",
    "lr = MultiClassLogisticRegression(iterations=11,C=0.001,eta=0.1, method ='BFGS',reg='l1l2')\n",
    "print(lr)\n",
    "lr.fit(StandardScaler().fit(X).transform(X),y)\n",
    "print(lr)\n",
    "\n",
    "yhat = lr.predict(StandardScaler().fit(X).transform(X))\n",
    "print('Accuracy of: ',accuracy_score(y,yhat))"
   ]
  },
  {
   "cell_type": "markdown",
   "metadata": {},
   "source": [
    "### We got the best results by changing the values of C , ETA , and Iterations and by using L1L2 Regularization using Steepest-Descent method. Accuracy achieved : 84.9"
   ]
  },
  {
   "cell_type": "code",
   "execution_count": 17,
   "metadata": {},
   "outputs": [
    {
     "name": "stdout",
     "output_type": "stream",
     "text": [
      "Untrained MultiClass Logistic Regression Object, METHOD : Steepest-Descent\n"
     ]
    },
    {
     "name": "stderr",
     "output_type": "stream",
     "text": [
      "/Users/skumar/anaconda3/lib/python3.6/site-packages/ipykernel_launcher.py:11: DeprecationWarning:\n",
      "\n",
      "numpy boolean subtract, the `-` operator, is deprecated, use the bitwise_xor, the `^` operator, or the logical_xor function instead.\n",
      "\n"
     ]
    },
    {
     "name": "stdout",
     "output_type": "stream",
     "text": [
      "MultiClass Logistic Regression Object with coefficients:\n",
      "[[ -7.14479362e+00  -2.24682441e+00   8.53924147e-02   1.45835630e-01\n",
      "    1.14478553e-01  -1.52112564e-01   1.98872390e-02  -1.34702744e-01\n",
      "   -1.37922692e-01   2.74251779e-01   1.19385287e-01   1.53809069e-01\n",
      "   -1.37372444e+00  -1.25215006e+00  -8.74327256e+00   7.35024182e-02\n",
      "    1.13672451e-01  -8.29380110e-02  -3.97141324e-02   9.54767395e-02\n",
      "    1.45970906e-01]\n",
      " [ -1.20017735e+00  -5.61473128e-02  -3.97940840e-03  -6.09197125e-02\n",
      "    3.57746937e-02   2.28132148e-02   3.69145795e-02   2.64816657e-02\n",
      "    1.09561083e-01   1.10009260e-02  -1.37981919e-01   1.07219870e-02\n",
      "    8.38790753e-02  -4.69540485e-02  -5.94280581e-01  -2.38169062e-03\n",
      "   -5.56188227e-02   1.12178962e-01  -2.99212751e-02   4.41729106e-02\n",
      "   -1.36002108e-03]\n",
      " [ -1.21674830e+00  -4.04268489e-02  -4.07508412e-02   1.15885569e-02\n",
      "   -6.37250261e-02   9.14460515e-02  -1.51741008e-01  -1.04947619e-01\n",
      "   -5.92651934e-02   1.38065085e-01   1.07821366e-01  -6.45772965e-02\n",
      "    3.00872933e-02  -8.00685591e-02   6.29248388e-01  -1.30060038e-01\n",
      "    3.74448033e-02  -1.63216315e-02   1.24741620e-01  -8.76303619e-02\n",
      "   -3.00502188e-02]\n",
      " [ -6.99490508e+00   2.34807191e+00  -3.72719401e-02  -5.88204585e-03\n",
      "    1.36387307e-01  -1.03591964e-01   2.31698456e-01   3.05693483e-01\n",
      "    4.72850655e-03  -6.37191092e-01   1.18584189e-01   9.59461712e-02\n",
      "    1.37513513e+00   1.41146761e+00   8.81688347e+00   3.53069628e-01\n",
      "    8.78127280e-03   1.16877938e-01  -1.45488201e-01   1.21911993e-01\n",
      "   -1.18279780e-01]], METHOD : Steepest-Descent REGULARIZATION:l1l2\n",
      "Accuracy of:  0.849\n",
      "CPU times: user 1min 5s, sys: 6.51 s, total: 1min 12s\n",
      "Wall time: 1min 12s\n"
     ]
    }
   ],
   "source": [
    "%%time\n",
    "\n",
    "lr = MultiClassLogisticRegression(eta=0.2,iterations=200, C=0.001, method='Steepest-Descent',reg='l1l2')\n",
    "print(lr)\n",
    "lr.fit(StandardScaler().fit(X).transform(X),y)\n",
    "print(lr)\n",
    "\n",
    "yhat = lr.predict(StandardScaler().fit(X).transform(X))\n",
    "print('Accuracy of: ',accuracy_score(y,yhat))"
   ]
  },
  {
   "cell_type": "markdown",
   "metadata": {},
   "source": [
    "### We got the best results by changing the values of C , ETA , and Iterations and by using L1 Regularization using Stochastic method. Accuracy achieved : 78.5% (It is an average value asit kept varying between ~ 77-80 on each run)"
   ]
  },
  {
   "cell_type": "code",
   "execution_count": 18,
   "metadata": {},
   "outputs": [
    {
     "name": "stdout",
     "output_type": "stream",
     "text": [
      "Untrained MultiClass Logistic Regression Object, METHOD : Stochastic\n",
      "MultiClass Logistic Regression Object with coefficients:\n",
      "[[ -1.10338914e+01  -3.08658424e+00   4.01614739e-01   3.26604754e-01\n",
      "   -1.33746645e-01  -8.18855077e-02  -3.47770453e-01  -2.14683034e-01\n",
      "    5.99123282e-02   2.56765762e-01   1.97209080e-01  -1.43169275e-01\n",
      "   -2.02133034e+00  -1.93705387e+00  -1.27439349e+01   1.78751674e-01\n",
      "   -1.02711560e-02  -2.83443773e-02   1.32660064e-01   2.50443011e-01\n",
      "   -7.65269770e-02]\n",
      " [ -1.46605808e+00  -2.65840157e-01  -1.86333587e-01   3.58157954e-01\n",
      "    1.13020807e-01  -1.19025376e-01   4.80740842e-01   4.18534408e-02\n",
      "    1.03776620e-01   2.91641296e-01  -5.11439056e-01  -2.20206553e-01\n",
      "    2.92025463e-01  -2.27718621e-01  -7.58282187e-01   1.64149766e-01\n",
      "   -1.93113186e-01   7.31774195e-03  -6.90703295e-02  -7.07603851e-02\n",
      "    9.76723724e-02]\n",
      " [ -1.94089698e+00  -4.37776495e-01   5.65743525e-01   8.06520225e-02\n",
      "    1.34289673e-01   2.66826418e-01  -5.88561191e-01   3.85455211e-02\n",
      "   -8.55168734e-02   4.88367728e-01   1.84424064e-01  -1.30176223e-01\n",
      "    5.17412660e-02   7.23811551e-03   8.55194022e-01  -2.60811845e-01\n",
      "   -2.69426037e-01  -6.30390926e-02   9.47438631e-02  -4.27426277e-01\n",
      "    4.29196621e-01]\n",
      " [ -1.08193854e+01   3.38474435e+00  -3.32068404e-01  -7.58533219e-02\n",
      "   -1.56251222e-01   3.23374629e-01   3.70670630e-01   7.03040985e-01\n",
      "   -2.62468006e-01  -1.11507497e+00   3.47037206e-01  -8.96595079e-02\n",
      "    2.21930374e+00   2.19703057e+00   1.29857830e+01   6.74805485e-01\n",
      "   -1.36454620e-01   3.64907937e-01  -2.92439965e-01  -7.01717751e-02\n",
      "    2.43362729e-01]], METHOD : Stochastic REGULARIZATION:l1\n",
      "Accuracy of:  0.796\n",
      "CPU times: user 1.16 s, sys: 12.9 ms, total: 1.17 s\n",
      "Wall time: 1.17 s\n"
     ]
    }
   ],
   "source": [
    "%%time\n",
    "lr = MultiClassLogisticRegression(iterations=20000,C=0.001,eta=0.1, method='Stochastic',reg='l1')\n",
    "print(lr)\n",
    "lr.fit(StandardScaler().fit(X).transform(X),y)\n",
    "print(lr)\n",
    "\n",
    "yhat = lr.predict(StandardScaler().fit(X).transform(X))\n",
    "print('Accuracy of: ',accuracy_score(y,yhat))"
   ]
  },
  {
   "cell_type": "markdown",
   "metadata": {},
   "source": [
    "### We got the best results by changing the values of C , ETA , and Iterations and by using L1 Regularization using Hessian method. Accuracy achieved : 89.3%"
   ]
  },
  {
   "cell_type": "code",
   "execution_count": 19,
   "metadata": {
    "scrolled": true
   },
   "outputs": [
    {
     "name": "stdout",
     "output_type": "stream",
     "text": [
      "Untrained MultiClass Logistic Regression Object, METHOD : Hessian\n",
      "MultiClass Logistic Regression Object with coefficients:\n",
      "[[ -9.27737060e+01  -2.64253685e+01   9.67171675e-02   8.31872304e-01\n",
      "    2.72260111e-01   5.67356602e-01   4.73796809e-01  -5.44219738e-01\n",
      "   -1.03130310e-01   4.27467841e+00  -1.61349120e+00  -1.51158963e-01\n",
      "   -1.57795391e+01  -1.49077641e+01  -1.06216210e+02   4.68545159e-01\n",
      "    8.02853821e-01   7.71971521e-01   5.11939500e-02   1.24442130e-01\n",
      "    8.58412161e-01]\n",
      " [ -1.19354834e+00  -4.82027190e-02   2.81960813e-03  -5.40348287e-02\n",
      "    2.80512079e-02   1.79121878e-02   2.17367009e-02   1.96134287e-02\n",
      "    1.02831084e-01   5.14214888e-03  -1.31646692e-01   7.02311990e-03\n",
      "    7.03813444e-02  -3.32490031e-02  -5.79673900e-01   1.79066615e-03\n",
      "   -5.17351109e-02   1.03922550e-01  -1.57787180e-02   3.82217743e-02\n",
      "    4.24660117e-03]\n",
      " [ -1.20779724e+00  -3.40113545e-02  -3.39388598e-02   6.21221203e-03\n",
      "   -5.71186212e-02   7.32323943e-02  -1.35918564e-01  -9.74805607e-02\n",
      "   -5.27044620e-02   1.30518640e-01   1.00094448e-01  -4.58345632e-02\n",
      "    1.54501107e-02  -6.59214665e-02   6.11719220e-01  -1.15436033e-01\n",
      "    2.48016702e-02  -1.15580299e-02   1.08776222e-01  -8.02893190e-02\n",
      "   -2.26938211e-02]\n",
      " [ -5.67629520e+01   1.63835650e+01  -6.55156481e-01   3.20292821e-02\n",
      "    3.92970183e-01  -2.32275325e-01   3.00239345e-01   1.70823732e+00\n",
      "    1.30335049e-01  -3.96057025e+00   6.84107144e-01   4.14709346e-01\n",
      "    1.08632594e+01   9.67253142e+00   6.69878968e+01   1.01572078e+00\n",
      "    2.56667706e-01   1.72218065e-01  -2.00371846e-01  -1.60708152e-01\n",
      "   -1.00652666e+00]], METHOD : Hessian REGULARIZATION:l1\n",
      "Accuracy of:  0.8935\n",
      "CPU times: user 21.3 s, sys: 2.93 s, total: 24.3 s\n",
      "Wall time: 5.78 s\n"
     ]
    }
   ],
   "source": [
    "%%time\n",
    "start = timeit.default_timer()\n",
    "\n",
    "lr = MultiClassLogisticRegression(eta=0.1,iterations=100,C=0.01, method='Hessian',reg='l1')\n",
    "print(lr)\n",
    "lr.fit(StandardScaler().fit(X).transform(X),y)\n",
    "print(lr)\n",
    "\n",
    "yhat = lr.predict(StandardScaler().fit(X).transform(X))\n",
    "print('Accuracy of: ',accuracy_score(y,yhat))\n",
    "acc_hessian=accuracy_score(y,yhat)*100\n",
    "\n",
    "stop = timeit.default_timer()\n",
    "time_hessian = stop - start\n"
   ]
  },
  {
   "cell_type": "code",
   "execution_count": 20,
   "metadata": {},
   "outputs": [
    {
     "name": "stdout",
     "output_type": "stream",
     "text": [
      "        C   BFGS  Steepest-Descent  Stochastic  Hessian\n",
      "0   0.001  84.05             84.80       80.55    89.25\n",
      "1   0.010  77.65             80.70       73.40    89.35\n",
      "2   0.100  65.40             54.00       47.35    88.85\n",
      "3   1.000  53.75             36.25       29.05    87.70\n",
      "4  10.000  51.00             34.35       29.75    34.95\n"
     ]
    }
   ],
   "source": [
    "#performance of the classifier versus the parameters \"C\" investigated\n",
    "#accessing data from .csv file\n",
    "df = pd.read_csv('./performance.csv')\n",
    "print(df)"
   ]
  },
  {
   "cell_type": "markdown",
   "metadata": {},
   "source": [
    "### Based on all the optimization techniques , We achieved the best results in Hessian Method. Now we visualize the 4 methods using different parameters 'C'"
   ]
  },
  {
   "cell_type": "code",
   "execution_count": 21,
   "metadata": {},
   "outputs": [
    {
     "data": {
      "image/png": "[encoded data removed]",
      "text/plain": [
       "<matplotlib.figure.Figure at 0x1a1566f0b8>"
      ]
     },
     "metadata": {},
     "output_type": "display_data"
    }
   ],
   "source": [
    "import matplotlib.pyplot as plt\n",
    "import matplotlib\n",
    "matplotlib.style.use('ggplot')\n",
    "df.plot(x='C',kind='bar')\n",
    "plt.show()"
   ]
  },
  {
   "cell_type": "markdown",
   "metadata": {},
   "source": [
    "### Visualizing performance of the classifier vs Regularization methods."
   ]
  },
  {
   "cell_type": "code",
   "execution_count": 22,
   "metadata": {},
   "outputs": [
    {
     "name": "stdout",
     "output_type": "stream",
     "text": [
      "  Regularization   BFGS  Steepest-Descent  Stochastic  Hessian\n",
      "0             L1  84.85             84.80       79.85    89.35\n",
      "1             L2  83.40             84.25       75.15    89.10\n",
      "2          L1_L2  87.30             84.90       74.60    50.95\n"
     ]
    }
   ],
   "source": [
    "#performance of the classifier versus the parameters \"Regularization(L1/L2/L1_L2(both))\" investigated\n",
    "#accessing data from .csv file\n",
    "df = pd.read_csv('./Regularization.csv')\n",
    "print(df)"
   ]
  },
  {
   "cell_type": "code",
   "execution_count": 23,
   "metadata": {},
   "outputs": [
    {
     "data": {
      "image/png": "[encoded data removed]",
      "text/plain": [
       "<matplotlib.figure.Figure at 0x1a15649e48>"
      ]
     },
     "metadata": {},
     "output_type": "display_data"
    }
   ],
   "source": [
    "matplotlib.style.use('ggplot')\n",
    "df.plot(x='Regularization',kind='bar')\n",
    "plt.show()"
   ]
  },
  {
   "cell_type": "markdown",
   "metadata": {},
   "source": [
    "### We do not think data snooping is involved with the method of parameter selection as we are not using the test data which can lead to data snooping in our dataset. Hence our method of selecting parameters is purely based on training set which will not give biased prediction results."
   ]
  },
  {
   "cell_type": "code",
   "execution_count": 24,
   "metadata": {},
   "outputs": [
    {
     "name": "stdout",
     "output_type": "stream",
     "text": [
      "[[ -6.58367740e+00  -1.92079053e+00   3.76828331e-02   1.01492999e-01\n",
      "    7.38958211e-02  -6.60344442e-02  -5.15695521e-02  -9.74730427e-02\n",
      "   -7.74409833e-02   1.99390614e-01   7.74569410e-02   3.88807156e-02\n",
      "   -1.19481055e+00  -1.05424982e+00  -7.72013707e+00   3.87746815e-02\n",
      "    6.17845682e-02  -2.61907978e-02   2.34467220e-02   5.52357873e-02\n",
      "    1.06755699e-01]\n",
      " [ -1.18927754e+00  -4.78669940e-02   2.73596490e-03  -5.37704388e-02\n",
      "    2.78122656e-02   1.77721997e-02   2.15180144e-02   1.94763014e-02\n",
      "    1.02302463e-01   5.09267170e-03  -1.31024967e-01   6.96597086e-03\n",
      "    6.99379605e-02  -3.28947105e-02  -5.76775771e-01   1.63220577e-03\n",
      "   -5.14206000e-02   1.03312346e-01  -1.56243096e-02   3.80543574e-02\n",
      "    4.16778683e-03]\n",
      " [ -1.20323957e+00  -3.38121480e-02  -3.37351879e-02   6.19232272e-03\n",
      "   -5.67431097e-02   7.25062006e-02  -1.34804947e-01  -9.69396946e-02\n",
      "   -5.24033695e-02   1.29846004e-01   9.95535362e-02  -4.51332370e-02\n",
      "    1.50777342e-02  -6.54099119e-02   6.08515675e-01  -1.14650293e-01\n",
      "    2.44226189e-02  -1.15336276e-02   1.07783846e-01  -7.98972181e-02\n",
      "   -2.24832031e-02]\n",
      " [ -6.48395690e+00   2.02851708e+00  -2.87950197e-02   1.79236942e-02\n",
      "    8.17534965e-02  -1.30815097e-02   1.51418727e-01   2.62835439e-01\n",
      "   -5.71216744e-03  -5.35340615e-01   7.41222773e-02   1.76934766e-02\n",
      "    1.18840882e+00   1.21057578e+00   7.83080758e+00   2.69991344e-01\n",
      "    5.42981901e-03   6.73846338e-02  -6.42790284e-02   7.28152775e-02\n",
      "   -7.08528875e-02]]\n",
      "Accuracy of:  0.8555\n",
      "CPU times: user 45.3 ms, sys: 15 ms, total: 60.3 ms\n",
      "Wall time: 70.3 ms\n"
     ]
    }
   ],
   "source": [
    "%%time\n",
    "start = timeit.default_timer()\n",
    "#Comparing to Scikit Learn\n",
    "\n",
    "from sklearn.linear_model import LogisticRegression as SKLogisticRegression\n",
    "\n",
    "lr_sk = SKLogisticRegression() # all params default\n",
    "\n",
    "lr_sk.fit(StandardScaler().fit(X).transform(X),y)\n",
    "print(np.hstack((lr_sk.intercept_[:,np.newaxis],lr_sk.coef_)))\n",
    "yhat = lr_sk.predict(StandardScaler().fit(X).transform(X))\n",
    "print('Accuracy of: ',accuracy_score(y,yhat))\n",
    "acc_scikit=accuracy_score(y,yhat)*100\n",
    "\n",
    "stop = timeit.default_timer()\n",
    "time_scikit = stop - start\n"
   ]
  },
  {
   "cell_type": "markdown",
   "metadata": {},
   "source": [
    "###  Comparing the performance (ACCURACY) of our \"best\" logistic regression optimization procedure to the procedure used in scikit-learn."
   ]
  },
  {
   "cell_type": "code",
   "execution_count": 25,
   "metadata": {
    "scrolled": true
   },
   "outputs": [
    {
     "name": "stdout",
     "output_type": "stream",
     "text": [
      "Scikit Accuracy: 85.55\n",
      "Hessian Accuracy: 89.35\n"
     ]
    },
    {
     "data": {
      "image/png": "[encoded data removed]",
      "text/plain": [
       "<matplotlib.figure.Figure at 0x1a18f69390>"
      ]
     },
     "metadata": {},
     "output_type": "display_data"
    }
   ],
   "source": [
    "# Accuracy Comparison(Scikit vs Hessian)\n",
    "\n",
    "Accuracy =  [acc_scikit, acc_hessian]\n",
    "print('Scikit Accuracy:',acc_scikit)\n",
    "print('Hessian Accuracy:',acc_hessian)\n",
    "New = ('Scikit', 'Hessian') \n",
    "y_pos = np.arange(len(New))\n",
    "plt.bar(y_pos, Accuracy, align='center', alpha=0.4)\n",
    "plt.xticks(y_pos, New)\n",
    "plt.ylabel('Accuracy (in %)')\n",
    "plt.title('Accuracy Comparison (Scikit vs Hessian )')\n",
    "\n",
    "plt.show()"
   ]
  },
  {
   "cell_type": "markdown",
   "metadata": {},
   "source": [
    "### In terms of accuracy , Hessian beats Scikit learn's method for our dataset."
   ]
  },
  {
   "cell_type": "markdown",
   "metadata": {},
   "source": [
    "### Comparing the performance (TIME) of our \"best\" logistic regression optimization procedure to the procedure used in scikit-learn."
   ]
  },
  {
   "cell_type": "code",
   "execution_count": 26,
   "metadata": {},
   "outputs": [
    {
     "name": "stdout",
     "output_type": "stream",
     "text": [
      "Scikit Time: 0.07023504900280386\n",
      "Hessian Time: 5.781777138006873\n"
     ]
    },
    {
     "data": {
      "text/plain": [
       "Text(0.5,1,'Training Time Comparison(Scikit vs Hessian)')"
      ]
     },
     "execution_count": 26,
     "metadata": {},
     "output_type": "execute_result"
    }
   ],
   "source": [
    "# Training Time Comparison(Scikit vs Hessian)\n",
    "\n",
    "Time =  [time_scikit, time_hessian]\n",
    "print('Scikit Time:',time_scikit)\n",
    "print('Hessian Time:',time_hessian)\n",
    "New_Time = ('Scikit', 'Hessian') \n",
    "y_pos1 = np.arange(len(New_Time))\n",
    "\n",
    "plt.bar(y_pos1, Time, align='center', alpha=0.9)\n",
    "plt.xticks(y_pos1, New_Time)\n",
    "plt.ylabel('Time (in seconds)')\n",
    "plt.title('Training Time Comparison(Scikit vs Hessian)')\n"
   ]
  },
  {
   "cell_type": "code",
   "execution_count": 27,
   "metadata": {},
   "outputs": [
    {
     "data": {
      "image/png": "[encoded data removed]",
      "text/plain": [
       "<matplotlib.figure.Figure at 0x1a16013ef0>"
      ]
     },
     "metadata": {},
     "output_type": "display_data"
    }
   ],
   "source": [
    "plt.show()"
   ]
  },
  {
   "cell_type": "markdown",
   "metadata": {},
   "source": [
    "### In terms of Time , Scikit beats Hessian method for our dataset."
   ]
  },
  {
   "cell_type": "markdown",
   "metadata": {},
   "source": [
    "## Deployment \n",
    "Scikit learn's implementation is better than our best Method (Hessian) as the difference in their accuracy is negligible , However , the time taken to train the dataset using our method was significanly High compared to scikit's learns which is very low. We use scikit learn's method in our machine learning model deployment for the best prediction results."
   ]
  },
  {
   "cell_type": "markdown",
   "metadata": {},
   "source": [
    "## Extras\n",
    "\n",
    "We tried implement MSE and added it as a method in the Multiclass Logistic regression."
   ]
  },
  {
   "cell_type": "code",
   "execution_count": 28,
   "metadata": {},
   "outputs": [
    {
     "name": "stdout",
     "output_type": "stream",
     "text": [
      "CPU times: user 28 µs, sys: 1 µs, total: 29 µs\n",
      "Wall time: 34.1 µs\n"
     ]
    }
   ],
   "source": [
    "%%time\n",
    "class MSERegression(BinaryLogisticRegression):\n",
    "    # stochastic gradient calculation \n",
    "    def _get_gradient(self,X,y):\n",
    "        #X.transpose()\n",
    "        #gradient = - 2 * X.transpose() / len(X) # Derivative of the Function\n",
    "        #gradient = gradient.reshape(self.w_.shape)\n",
    "        #print(gradient.shape)\n",
    "        \n",
    "        \n",
    "        s = expit(X @ self.w_)                  #We take cross-product of X and w. \n",
    "                                          #Then we take logistic function which returns inverse of (1+(exp^-x))\n",
    "        return np.sum((s-y)**2)           #Objective function for MSE gradient and sum it for all values.\n",
    "    \n",
    "        #return gradient"
   ]
  },
  {
   "cell_type": "code",
   "execution_count": 29,
   "metadata": {},
   "outputs": [
    {
     "name": "stdout",
     "output_type": "stream",
     "text": [
      "Untrained MultiClass Logistic Regression Object, METHOD : MSE\n",
      "MultiClass Logistic Regression Object with coefficients:\n",
      "[[ 2980000.  2980000.  2980000.  2980000.  2980000.  2980000.  2980000.\n",
      "   2980000.  2980000.  2980000.  2980000.  2980000.  2980000.  2980000.\n",
      "   2980000.  2980000.  2980000.  2980000.  2980000.  2980000.  2980000.]\n",
      " [ 2980000.  2980000.  2980000.  2980000.  2980000.  2980000.  2980000.\n",
      "   2980000.  2980000.  2980000.  2980000.  2980000.  2980000.  2980000.\n",
      "   2980000.  2980000.  2980000.  2980000.  2980000.  2980000.  2980000.]\n",
      " [ 2980000.  2980000.  2980000.  2980000.  2980000.  2980000.  2980000.\n",
      "   2980000.  2980000.  2980000.  2980000.  2980000.  2980000.  2980000.\n",
      "   2980000.  2980000.  2980000.  2980000.  2980000.  2980000.  2980000.]\n",
      " [ 2980000.  2980000.  2980000.  2980000.  2980000.  2980000.  2980000.\n",
      "   2980000.  2980000.  2980000.  2980000.  2980000.  2980000.  2980000.\n",
      "   2980000.  2980000.  2980000.  2980000.  2980000.  2980000.  2980000.]], METHOD : MSE REGULARIZATION:l2\n",
      "Accuracy of:  0.25\n"
     ]
    }
   ],
   "source": [
    "lr = MultiClassLogisticRegression(eta=0.01,iterations=100,C=0.001, method='MSE')\n",
    "print(lr)\n",
    "lr.fit(X,y)\n",
    "print(lr)\n",
    "yhat = lr.predict(StandardScaler().fit(X).transform(X))\n",
    "print('Accuracy of: ',accuracy_score(y,yhat))"
   ]
  },
  {
   "cell_type": "markdown",
   "metadata": {},
   "source": [
    "Our Accuracy is low  , we do not recommend using this method as the accuracy is very low."
   ]
  },
  {
   "cell_type": "markdown",
   "metadata": {},
   "source": [
    "## References :\n",
    "    [1] https://stackoverflow.com/questions/13610074/is-there-a-rule-of-thumb-for-how-to-divide-a-dataset-into-training-and-validatio\n",
    "    [2] https://math.stackexchange.com/questions/1962877/compute-the-gradient-of-mean-square-error\n",
    "    [3] https://datascience.stackexchange.com/questions/17565/logistic-regression-gd-implementation-in-python"
   ]
  },
  {
   "cell_type": "code",
   "execution_count": null,
   "metadata": {},
   "outputs": [],
   "source": []
  }
 ],
 "metadata": {
  "kernelspec": {
   "display_name": "Python 3",
   "language": "python",
   "name": "python3"
  },
  "language_info": {
   "codemirror_mode": {
    "name": "ipython",
    "version": 3
   },
   "file_extension": ".py",
   "mimetype": "text/x-python",
   "name": "python",
   "nbconvert_exporter": "python",
   "pygments_lexer": "ipython3",
   "version": "3.6.8"
  },
  "varInspector": {
   "cols": {
    "lenName": 16,
    "lenType": 16,
    "lenVar": 40
   },
   "kernels_config": {
    "python": {
     "delete_cmd_postfix": "",
     "delete_cmd_prefix": "del ",
     "library": "var_list.py",
     "varRefreshCmd": "print(var_dic_list())"
    },
    "r": {
     "delete_cmd_postfix": ") ",
     "delete_cmd_prefix": "rm(",
     "library": "var_list.r",
     "varRefreshCmd": "cat(var_dic_list()) "
    }
   },
   "types_to_exclude": [
    "module",
    "function",
    "builtin_function_or_method",
    "instance",
    "_Feature"
   ],
   "window_display": false
  }
 },
 "nbformat": 4,
 "nbformat_minor": 2
}
